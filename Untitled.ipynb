{
 "cells": [
  {
   "cell_type": "code",
   "execution_count": 1,
   "id": "f958091e-d955-4bdc-b83b-b892e2937ec9",
   "metadata": {},
   "outputs": [
    {
     "name": "stdout",
     "output_type": "stream",
     "text": [
      "Requirement already satisfied: roboflow in d:\\programfilesfolder\\anaconda3\\lib\\site-packages (1.1.63)\n",
      "Requirement already satisfied: certifi in d:\\programfilesfolder\\anaconda3\\lib\\site-packages (from roboflow) (2024.2.2)\n",
      "Requirement already satisfied: idna==3.7 in d:\\programfilesfolder\\anaconda3\\lib\\site-packages (from roboflow) (3.7)\n",
      "Requirement already satisfied: cycler in d:\\programfilesfolder\\anaconda3\\lib\\site-packages (from roboflow) (0.11.0)\n",
      "Requirement already satisfied: kiwisolver>=1.3.1 in d:\\programfilesfolder\\anaconda3\\lib\\site-packages (from roboflow) (1.4.4)\n",
      "Requirement already satisfied: matplotlib in d:\\programfilesfolder\\anaconda3\\lib\\site-packages (from roboflow) (3.8.0)\n",
      "Requirement already satisfied: numpy>=1.18.5 in d:\\programfilesfolder\\anaconda3\\lib\\site-packages (from roboflow) (1.26.4)\n",
      "Requirement already satisfied: opencv-python-headless==4.10.0.84 in d:\\programfilesfolder\\anaconda3\\lib\\site-packages (from roboflow) (4.10.0.84)\n",
      "Requirement already satisfied: Pillow>=7.1.2 in d:\\programfilesfolder\\anaconda3\\lib\\site-packages (from roboflow) (11.2.1)\n",
      "Requirement already satisfied: pillow-heif>=0.18.0 in d:\\programfilesfolder\\anaconda3\\lib\\site-packages (from roboflow) (0.22.0)\n",
      "Requirement already satisfied: python-dateutil in c:\\users\\nouran mustafa\\appdata\\roaming\\python\\python311\\site-packages (from roboflow) (2.8.2)\n",
      "Requirement already satisfied: python-dotenv in d:\\programfilesfolder\\anaconda3\\lib\\site-packages (from roboflow) (0.21.0)\n",
      "Requirement already satisfied: requests in d:\\programfilesfolder\\anaconda3\\lib\\site-packages (from roboflow) (2.32.3)\n",
      "Requirement already satisfied: six in c:\\users\\nouran mustafa\\appdata\\roaming\\python\\python311\\site-packages (from roboflow) (1.16.0)\n",
      "Requirement already satisfied: urllib3>=1.26.6 in d:\\programfilesfolder\\anaconda3\\lib\\site-packages (from roboflow) (2.0.7)\n",
      "Requirement already satisfied: tqdm>=4.41.0 in d:\\programfilesfolder\\anaconda3\\lib\\site-packages (from roboflow) (4.67.1)\n",
      "Requirement already satisfied: PyYAML>=5.3.1 in d:\\programfilesfolder\\anaconda3\\lib\\site-packages (from roboflow) (6.0.1)\n",
      "Requirement already satisfied: requests-toolbelt in d:\\programfilesfolder\\anaconda3\\lib\\site-packages (from roboflow) (1.0.0)\n",
      "Requirement already satisfied: filetype in d:\\programfilesfolder\\anaconda3\\lib\\site-packages (from roboflow) (1.2.0)\n",
      "Requirement already satisfied: colorama in c:\\users\\nouran mustafa\\appdata\\roaming\\python\\python311\\site-packages (from tqdm>=4.41.0->roboflow) (0.4.6)\n",
      "Requirement already satisfied: contourpy>=1.0.1 in d:\\programfilesfolder\\anaconda3\\lib\\site-packages (from matplotlib->roboflow) (1.2.0)\n",
      "Requirement already satisfied: fonttools>=4.22.0 in d:\\programfilesfolder\\anaconda3\\lib\\site-packages (from matplotlib->roboflow) (4.25.0)\n",
      "Requirement already satisfied: packaging>=20.0 in c:\\users\\nouran mustafa\\appdata\\roaming\\python\\python311\\site-packages (from matplotlib->roboflow) (23.2)\n",
      "Requirement already satisfied: pyparsing>=2.3.1 in d:\\programfilesfolder\\anaconda3\\lib\\site-packages (from matplotlib->roboflow) (3.0.9)\n",
      "Requirement already satisfied: charset-normalizer<4,>=2 in d:\\programfilesfolder\\anaconda3\\lib\\site-packages (from requests->roboflow) (2.0.4)\n"
     ]
    },
    {
     "name": "stderr",
     "output_type": "stream",
     "text": [
      "\n",
      "[notice] A new release of pip is available: 25.1 -> 25.1.1\n",
      "[notice] To update, run: python.exe -m pip install --upgrade pip\n"
     ]
    }
   ],
   "source": [
    "!pip install roboflow"
   ]
  },
  {
   "cell_type": "code",
   "execution_count": 9,
   "id": "764c72c3-7a44-43a6-94e6-d2161a8d64f4",
   "metadata": {},
   "outputs": [
    {
     "name": "stdout",
     "output_type": "stream",
     "text": [
      "loading Roboflow workspace...\n",
      "loading Roboflow project...\n"
     ]
    },
    {
     "name": "stderr",
     "output_type": "stream",
     "text": [
      "Downloading Dataset Version Zip in dataset-1 to darknet:: 100%|████████████████| 54770/54770 [00:35<00:00, 1559.48it/s]"
     ]
    },
    {
     "name": "stdout",
     "output_type": "stream",
     "text": [
      "\n"
     ]
    },
    {
     "name": "stderr",
     "output_type": "stream",
     "text": [
      "\n",
      "Extracting Dataset Version Zip to dataset-1 in darknet:: 100%|███████████████████| 3092/3092 [00:01<00:00, 2712.13it/s]\n"
     ]
    }
   ],
   "source": [
    "from roboflow import Roboflow\n",
    "rf = Roboflow(api_key=\"aUgLRbSsOoYQZwK7r48V\")\n",
    "project = rf.workspace(\"nouran\").project(\"dataset-fp73q\")\n",
    "version = project.version(1)\n",
    "dataset = version.download(\"darknet\")"
   ]
  },
  {
   "cell_type": "code",
   "execution_count": 28,
   "id": "3f532df5-921b-4470-b666-052557ce616c",
   "metadata": {},
   "outputs": [
    {
     "name": "stderr",
     "output_type": "stream",
     "text": [
      "fatal: destination path 'darknet' already exists and is not an empty directory.\n"
     ]
    }
   ],
   "source": [
    "!git clone https://github.com/AlexeyAB/darknet.git"
   ]
  },
  {
   "cell_type": "code",
   "execution_count": 29,
   "id": "b873573c-5af3-424b-b899-22032ee512a0",
   "metadata": {},
   "outputs": [],
   "source": [
    "!cd darknet"
   ]
  },
  {
   "cell_type": "code",
   "execution_count": 10,
   "id": "ba7e86b4-57e9-43ca-ba7a-9c2b9d08503a",
   "metadata": {},
   "outputs": [],
   "source": [
    "import os\n",
    "from glob import glob\n",
    "\n",
    "def create_list(folder, out_file):\n",
    "    images = glob(os.path.join(folder, \"*.jpg\"))\n",
    "    with open(out_file, \"w\") as f:\n",
    "        for img_path in images:\n",
    "            f.write(os.path.abspath(img_path) + \"\\n\")\n",
    "\n",
    "create_list(\"dataset-1/train\", \"dataset-1/train.txt\")\n",
    "create_list(\"dataset-1/valid\", \"dataset-1/valid.txt\")\n"
   ]
  },
  {
   "cell_type": "code",
   "execution_count": 11,
   "id": "90cfada4-1eeb-4b3d-a86e-b25486372b3d",
   "metadata": {},
   "outputs": [
    {
     "name": "stdout",
     "output_type": "stream",
     "text": [
      "Generated: dataset-1\\obj.names\n"
     ]
    }
   ],
   "source": [
    "# Edit this with your actual class names\n",
    "class_names = [\n",
    "    \"blue_ball\",\n",
    "    \"blue_box\",\n",
    "    \"green_ball\",\n",
    "    \"green_box\",\n",
    "    \"red_ball\",\n",
    "    \"red_box\"\n",
    "]\n",
    "\n",
    "# Set your dataset path\n",
    "dataset_dir = \"dataset-1\"\n",
    "\n",
    "# Save obj.names\n",
    "names_path = os.path.join(dataset_dir, \"obj.names\")\n",
    "with open(names_path, \"w\") as f:\n",
    "    for name in class_names:\n",
    "        f.write(name + \"\\n\")\n",
    "print(f\"Generated: {names_path}\")"
   ]
  },
  {
   "cell_type": "code",
   "execution_count": 12,
   "id": "7e0a1648-31be-4d98-8114-bfefaa5af60a",
   "metadata": {},
   "outputs": [
    {
     "name": "stdout",
     "output_type": "stream",
     "text": [
      "Generated: dataset-1\\obj.data\n"
     ]
    }
   ],
   "source": [
    "# Save obj.data\n",
    "data_path = os.path.join(dataset_dir, \"obj.data\")\n",
    "with open(data_path, \"w\") as f:\n",
    "    f.write(f\"classes = {len(class_names)}\\n\")\n",
    "    f.write(f\"train = {os.path.abspath(os.path.join(dataset_dir, 'train.txt'))}\\n\")\n",
    "    f.write(f\"valid = {os.path.abspath(os.path.join(dataset_dir, 'valid.txt'))}\\n\")\n",
    "    f.write(f\"names = {os.path.abspath(names_path)}\\n\")\n",
    "    f.write(\"backup = backup/\\n\")\n",
    "print(f\"Generated: {data_path}\")"
   ]
  },
  {
   "cell_type": "code",
   "execution_count": 25,
   "id": "4ae0bbbc-9137-4096-93fd-31858e62b492",
   "metadata": {},
   "outputs": [],
   "source": [
    "!cd D:\\RoboticArm\\YOLOColorSort\\darknet\\"
   ]
  },
  {
   "cell_type": "code",
   "execution_count": 26,
   "id": "b48a6027-d96c-4322-8bf3-72839c92422e",
   "metadata": {},
   "outputs": [
    {
     "name": "stdout",
     "output_type": "stream",
     "text": [
      " Volume in drive D has no label.\n",
      " Volume Serial Number is CAAA-52AE\n",
      "\n",
      " Directory of D:\\RoboticArm\\YOLOColorSort\n",
      "\n",
      "05/11/2025  03:36 PM    <DIR>          .\n",
      "05/11/2025  03:36 PM    <DIR>          ..\n",
      "05/11/2025  02:43 PM                66 .gitattributes\n",
      "05/11/2025  02:59 PM    <DIR>          .ipynb_checkpoints\n",
      "05/11/2025  02:49 PM    <DIR>          .venv\n",
      "05/11/2025  03:30 PM    <DIR>          cfg\n",
      "05/11/2025  03:03 PM    <DIR>          darknet\n",
      "05/11/2025  03:32 PM    <DIR>          dataset-1\n",
      "05/11/2025  02:43 PM             1,091 LICENSE\n",
      "05/11/2025  03:36 PM             9,355 Untitled.ipynb\n",
      "               3 File(s)         10,512 bytes\n",
      "               7 Dir(s)  320,271,351,808 bytes free\n"
     ]
    }
   ],
   "source": [
    "!dir"
   ]
  },
  {
   "cell_type": "code",
   "execution_count": 19,
   "id": "08bb0eb2-edfe-43f6-8a78-2078569ddd7a",
   "metadata": {},
   "outputs": [
    {
     "name": "stderr",
     "output_type": "stream",
     "text": [
      "'darknet.exe' is not recognized as an internal or external command,\n",
      "operable program or batch file.\n"
     ]
    }
   ],
   "source": [
    "!darknet.exe detector train dataset-1/obj.data yolov4-tiny-custom.cfg yolov4-tiny.conv.29 -map"
   ]
  },
  {
   "cell_type": "code",
   "execution_count": null,
   "id": "e155193c-fbd5-42e4-92e3-3404189a02ea",
   "metadata": {},
   "outputs": [],
   "source": []
  }
 ],
 "metadata": {
  "kernelspec": {
   "display_name": "Python 3 (ipykernel)",
   "language": "python",
   "name": "python3"
  },
  "language_info": {
   "codemirror_mode": {
    "name": "ipython",
    "version": 3
   },
   "file_extension": ".py",
   "mimetype": "text/x-python",
   "name": "python",
   "nbconvert_exporter": "python",
   "pygments_lexer": "ipython3",
   "version": "3.11.8"
  }
 },
 "nbformat": 4,
 "nbformat_minor": 5
}
